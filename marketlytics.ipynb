{
 "cells": [
  {
   "cell_type": "code",
   "execution_count": 1,
   "metadata": {},
   "outputs": [],
   "source": [
    "import pandas as pd\n",
    "from csv import reader"
   ]
  },
  {
   "cell_type": "code",
   "execution_count": 2,
   "metadata": {},
   "outputs": [],
   "source": [
    "# data=pd.read_csv(\"data_marketlytics.csv\", delimiter='_')\n",
    "# data.head()"
   ]
  },
  {
   "cell_type": "code",
   "execution_count": 3,
   "metadata": {},
   "outputs": [
    {
     "data": {
      "text/plain": [
       "[['BIOX_WEB_BioX_20192904_Qiagen Website_Ingenuity Pathway Analysis (IPA)_BioxBA_Must_Win_1_BIOX'],\n",
       " ['CM_GEN_BIOX_0719_SMOR_IPA_LinkedIn'],\n",
       " ['CM_GEN_BIOX_IPA-OS-UGM-Cambridge2019-SaveTheDate_0719_EM_CRM_2924_5104'],\n",
       " ['BIOX_WEB_BioX_20191605_tv.qiagenbioinformatics_Webinar_BioxBA_Must_Win_1_BIOX'],\n",
       " ['CM_GEN_BIOX_0719_SMOR_IPA_Twitter'],\n",
       " ['DMC_BIOX_HGMD_Summer_Release_30062019_2936_5084'],\n",
       " ['COECM_WEB_CLC_Gx_WB12_1811_Blog_post_No_1'],\n",
       " ['MCOM_BIOX_IPA_WINTER_RELEASE_131218_2283_3905'],\n",
       " ['BIOX_WEB_BioX_20192904_Qiagen Website_ANNOVAR_BioxBA_Must_Win_1_BIOX'],\n",
       " ['BIOX_WEB_BioX_20192904_Qiagen Website_CLC Genomics Workbench_BioxBA_Must_Win_1_BIOX'],\n",
       " ['CM_GEN_BIOX_GxWB-Webinar-Invite-EMEA_0619_EM_Downstream_2874_5009'],\n",
       " ['CCOM_WEB_QMIAR_1706_SM_LI_organic'],\n",
       " ['BIOX_WEB_BioX_20192904_Qiagen Website_Ingenuity Variant Analysis (IVA)_BioxBA_Must_Win_1_BIOX'],\n",
       " ['CM_CG_BIOX_QCI-Banner_0719_DA_3rdPartyDisplay_GenomeWeb_Cancer'],\n",
       " ['BIOX_WEB_BioX_20192904_Qiagen Website_Microbial Genomics Pro Suite_BioxBA_Must_Win_1_BIOX'],\n",
       " ['DMC_BIOX_IPA_SUMMER_RELEASE_062019_2948_5149'],\n",
       " ['BIOX_WEB_BioX_qbiox_HGMD_Panel2_2019.2_Release'],\n",
       " ['APACM_WEB_APAC_2019_IN_EDM_Q2_IPAPromotion_0619_EM_2922_5080'],\n",
       " ['source=CM_GEN_BIOX_CLC_0619_SMOR_LinkedIn'],\n",
       " ['DGNG_WEB_NGS_1901_EM_GenomicsNewsletterJan2019_2317_4003'],\n",
       " ['BIOX_WEB_BioX_20192904_Qiagen Website_Work Bench Modules_BioxBA_Must_Win_1_BIOX'],\n",
       " ['BIOX_WEB_BioX_20192006_qbiox_blog_1MPressRelease_BioxBA_MW1'],\n",
       " ['BIOX_WEB_BioX_20192904_Qiagen Website_CLC Genomics Could Engine_BioxBA_Must_Win_1_BIOX'],\n",
       " ['BIOX_WEB_IPA_20192705_SM_twitter_GBT_Must_Win_3_BIOX'],\n",
       " ['AP_19_JP_EDM_TMB_23rd_TAMTTC_2786_4833'],\n",
       " ['CM_GEN_BIOX_CLC-GxWB-Banner_0719_DA_3rdPartyDisplay_GenomeWeb_Informatics'],\n",
       " ['CM_GEN_BIOX_GxWB-Webinar-Invite-NA_0619_EM_Downstream_2873_5009'],\n",
       " ['COECM_WEB_CLC_Gx_WB12_1811_EM_global_email_Eloqua_2190_3717'],\n",
       " ['CLC_WEB_GXWB_2702_SW___GrowCLC'],\n",
       " ['BIOX_WEB_BioX_20192904_Qiagen Website_CLC Main Workbench_BioxBA_Must_Win_1_BIOX'],\n",
       " ['CCOM_WEB_QMIAR_1706_SM_FB_organic'],\n",
       " ['DGNG_WEB_NG_180328_EM_BH_UpgradeHGMDPro_WW'],\n",
       " ['BIOX_WEB_BioX_20192904_Qiagen Website_HGMD_BioxBA_Must_Win_1_BIOX'],\n",
       " ['BIOX_WEB_BioX_qbiox_HGMD_Panel1_DWP_MW1'],\n",
       " ['BIOX_WEB_BioX_qbiox_HGMD_IVA'],\n",
       " ['MCOM_BIOX_IPA_SPRING_RELEASE_3272018_2591_4423'],\n",
       " ['BIOX_WEB_BioX_qbiox_blog_HGMD19.2_Release'],\n",
       " ['BIOX_WEB_BioX_qbiox_HGMDwebpage'],\n",
       " ['CM_CG_BIOX_Rump-webinar-invite-July11-Simulated_0719_EM_CRM_2894_5056'],\n",
       " ['CM_GEN_BIOX_GxWB-Webinar-Invite-NA_0619_EM_Downstream_2873_5009'],\n",
       " ['CM_GEN_BIOX_IPA-OS-UGM-Cambridge2019-SaveTheDate_0719_EM_CRM_2924_5104'],\n",
       " ['CM_CG_BIOX_QCI-Banner_0719_DA_3rdPartyDisplay_GenomeWeb_Cancer']]"
      ]
     },
     "execution_count": 3,
     "metadata": {},
     "output_type": "execute_result"
    }
   ],
   "source": [
    "data=list(reader(open('data_marketlytics.csv', encoding='utf-8')))\n",
    "data"
   ]
  },
  {
   "cell_type": "code",
   "execution_count": 4,
   "metadata": {},
   "outputs": [
    {
     "name": "stdout",
     "output_type": "stream",
     "text": [
      "42\n"
     ]
    }
   ],
   "source": [
    "aba=[]\n",
    "for a in data:\n",
    "    for i in a: \n",
    "        i=i.split(\"_\")\n",
    "        if i[0] == 'source=CM':\n",
    "            i[0]=i[0].replace('source=CM','CM')\n",
    "        aba.append(i)\n",
    "print(len(aba))\n",
    "# for i in aba:\n",
    "#     if i[0] == 'source=CM':\n",
    "#         print(i[0])\n",
    "#         i[0]=i[0].replace('source=CM','CM')\n",
    "#         print(i[0])\n",
    "    "
   ]
  },
  {
   "cell_type": "code",
   "execution_count": 5,
   "metadata": {},
   "outputs": [
    {
     "name": "stdout",
     "output_type": "stream",
     "text": [
      "17\n"
     ]
    }
   ],
   "source": [
    "cleanning_biox=[]\n",
    "cleanning_cm=[]\n",
    "cleanning_dgng=[]\n",
    "cleanning_dmc=[]\n",
    "cleanning_apacm=[]\n",
    "cleanning_mcom=[]\n",
    "cleanning_clc=[]\n",
    "cleanning_coecm=[]\n",
    "\n",
    "\n",
    "for i in aba:\n",
    "    if i[0]== 'BIOX':\n",
    "        cleanning_biox.append(i)\n",
    "    elif i[0]== 'CM':\n",
    "        cleanning_cm.append(i)\n",
    "    elif i[0]== 'DGNG':\n",
    "        cleanning_dgng.append(i)\n",
    "    elif i[0]== 'DMC':\n",
    "        cleanning_dmc.append(i)\n",
    "    elif i[0]== 'APACM':\n",
    "        cleanning_apacm.append(i)\n",
    "    elif i[0]== 'MCOM':\n",
    "        cleanning_mcom.append(i)\n",
    "    elif i[0]== 'CLC':\n",
    "        cleanning_clc.append(i)\n",
    "    elif i[0]== 'COECM':\n",
    "        cleanning_coecm.append(i)\n",
    "print(len(cleanning_biox))\n",
    "        "
   ]
  },
  {
   "cell_type": "code",
   "execution_count": 6,
   "metadata": {},
   "outputs": [],
   "source": [
    "department=[]\n",
    "campaign_code=[]\n",
    "campaign_name=[]\n",
    "start_date=[]\n",
    "channel=[]\n",
    "option1=[]\n",
    "option2=[]\n",
    "for i in cleanning_biox:\n",
    "    department.append(i[0])\n",
    "    campaign_code.append(i[1])\n",
    "    campaign_name.append(i[2])\n",
    "    if i[3]== 'qbiox':\n",
    "        start_date.append(\"\")\n",
    "    else:    \n",
    "        start_date.append(i[3])\n",
    "    channel.append(i[4])\n",
    "    if len(i) >= 6: \n",
    "        option1.append(i[5])\n",
    "    else:\n",
    "        option1.append('')\n",
    "    if len(i) > 7 :\n",
    "        option2.append(i[6])\n",
    "    else:\n",
    "        option2.append('')\n",
    "        \n",
    "    \n",
    "    \n"
   ]
  },
  {
   "cell_type": "code",
   "execution_count": 7,
   "metadata": {},
   "outputs": [],
   "source": [
    "for i in cleanning_cm:\n",
    "    department.append(i[0])\n",
    "    campaign_code.append(i[1])\n",
    "    campaign_name.append(i[2])\n",
    "    start_date.append(i[3])\n",
    "    if len(i) >= 6: \n",
    "        option1.append(i[5])\n",
    "    else:\n",
    "        option1.append('')\n",
    "    if len(i) > 7 :\n",
    "        option2.append(i[6])\n",
    "    else:\n",
    "        option2.append('')\n",
    "    if len(i) >8:\n",
    "        channel.append(i[-4])\n",
    "    else:\n",
    "        channel.append(i[4])"
   ]
  },
  {
   "cell_type": "code",
   "execution_count": 8,
   "metadata": {},
   "outputs": [],
   "source": [
    "for i in cleanning_dgng:\n",
    "    department.append(i[0])\n",
    "    campaign_code.append(i[1])\n",
    "    campaign_name.append(i[2])\n",
    "    start_date.append(i[3])\n",
    "    channel.append(i[4])\n",
    "    if len(i) >= 6: \n",
    "        option1.append(i[5])\n",
    "    else:\n",
    "        option1.append('')\n",
    "    if len(i) > 7 :\n",
    "        option2.append(i[6])\n",
    "    else:\n",
    "        option2.append('')"
   ]
  },
  {
   "cell_type": "code",
   "execution_count": 9,
   "metadata": {},
   "outputs": [],
   "source": [
    "for i in cleanning_apacm:\n",
    "    department.append(i[0])\n",
    "    campaign_code.append(i[1])\n",
    "    campaign_name.append(i[2])\n",
    "    start_date.append(i[3])\n",
    "    channel.append(i[4])\n",
    "    if len(i) >= 6: \n",
    "        option1.append(i[5])\n",
    "    else:\n",
    "        option1.append('')\n",
    "    if len(i) > 7 :\n",
    "        option2.append(i[6])\n",
    "    else:\n",
    "        option2.append('')"
   ]
  },
  {
   "cell_type": "code",
   "execution_count": 10,
   "metadata": {},
   "outputs": [],
   "source": [
    "for i in cleanning_mcom:\n",
    "    department.append(i[0])\n",
    "    campaign_code.append(i[1])\n",
    "    campaign_name.append(i[2])\n",
    "    start_date.append(i[-3])\n",
    "    channel.append(i[4])\n",
    "    if len(i) >= 6: \n",
    "        option1.append(i[5])\n",
    "    else:\n",
    "        option1.append('')\n",
    "    if len(i) > 7 :\n",
    "        option2.append(i[6])\n",
    "    else:\n",
    "        option2.append('')"
   ]
  },
  {
   "cell_type": "code",
   "execution_count": 11,
   "metadata": {},
   "outputs": [
    {
     "name": "stdout",
     "output_type": "stream",
     "text": [
      "[['COECM', 'WEB', 'CLC', 'Gx', 'WB12', '1811', 'Blog', 'post', 'No', '1'], ['COECM', 'WEB', 'CLC', 'Gx', 'WB12', '1811', 'EM', 'global', 'email', 'Eloqua', '2190', '3717']]\n"
     ]
    }
   ],
   "source": [
    "print(cleanning_coecm)"
   ]
  },
  {
   "cell_type": "code",
   "execution_count": 12,
   "metadata": {},
   "outputs": [],
   "source": [
    "for i in cleanning_coecm:\n",
    "    department.append(i[0])\n",
    "    campaign_code.append(i[1])\n",
    "    campaign_name.append(i[2])\n",
    "    start_date.append(i[5])\n",
    "    channel.append(i[4])\n",
    "    if len(i) >= 6: \n",
    "        option1.append(i[3])\n",
    "    else:\n",
    "        option1.append('')\n",
    "    if len(i) > 7 :\n",
    "        option2.append(i[6])\n",
    "    else:\n",
    "        option2.append('')"
   ]
  },
  {
   "cell_type": "code",
   "execution_count": 13,
   "metadata": {},
   "outputs": [],
   "source": [
    "for i in cleanning_clc:\n",
    "    department.append(i[0])\n",
    "    campaign_code.append(i[1])\n",
    "    campaign_name.append(i[2])\n",
    "    start_date.append(i[3])\n",
    "    channel.append(i[4])\n",
    "    if len(i) >= 6: \n",
    "        option1.append(i[5])\n",
    "    else:\n",
    "        option1.append('')\n",
    "    if len(i) > 7 :\n",
    "        option2.append(i[6])\n",
    "    else:\n",
    "        option2.append('')"
   ]
  },
  {
   "cell_type": "code",
   "execution_count": 18,
   "metadata": {},
   "outputs": [],
   "source": [
    "# print(department,\n",
    "# campaign_code,\n",
    "# campaign_name,\n",
    "# start_date,\n",
    "# channel,\n",
    "# option1,\n",
    "# option2)"
   ]
  },
  {
   "cell_type": "code",
   "execution_count": 19,
   "metadata": {},
   "outputs": [
    {
     "data": {
      "text/html": [
       "<div>\n",
       "<style scoped>\n",
       "    .dataframe tbody tr th:only-of-type {\n",
       "        vertical-align: middle;\n",
       "    }\n",
       "\n",
       "    .dataframe tbody tr th {\n",
       "        vertical-align: top;\n",
       "    }\n",
       "\n",
       "    .dataframe thead th {\n",
       "        text-align: right;\n",
       "    }\n",
       "</style>\n",
       "<table border=\"1\" class=\"dataframe\">\n",
       "  <thead>\n",
       "    <tr style=\"text-align: right;\">\n",
       "      <th></th>\n",
       "      <th>Department</th>\n",
       "      <th>Campaign_code</th>\n",
       "      <th>Campaign_name</th>\n",
       "      <th>Start_Date</th>\n",
       "      <th>Channel</th>\n",
       "      <th>Option1</th>\n",
       "      <th>Option2</th>\n",
       "    </tr>\n",
       "  </thead>\n",
       "  <tbody>\n",
       "    <tr>\n",
       "      <th>0</th>\n",
       "      <td>BIOX</td>\n",
       "      <td>WEB</td>\n",
       "      <td>BioX</td>\n",
       "      <td>20192904</td>\n",
       "      <td>Qiagen Website</td>\n",
       "      <td>Ingenuity Pathway Analysis (IPA)</td>\n",
       "      <td>BioxBA</td>\n",
       "    </tr>\n",
       "    <tr>\n",
       "      <th>1</th>\n",
       "      <td>BIOX</td>\n",
       "      <td>WEB</td>\n",
       "      <td>BioX</td>\n",
       "      <td>20191605</td>\n",
       "      <td>tv.qiagenbioinformatics</td>\n",
       "      <td>Webinar</td>\n",
       "      <td>BioxBA</td>\n",
       "    </tr>\n",
       "    <tr>\n",
       "      <th>2</th>\n",
       "      <td>BIOX</td>\n",
       "      <td>WEB</td>\n",
       "      <td>BioX</td>\n",
       "      <td>20192904</td>\n",
       "      <td>Qiagen Website</td>\n",
       "      <td>ANNOVAR</td>\n",
       "      <td>BioxBA</td>\n",
       "    </tr>\n",
       "    <tr>\n",
       "      <th>3</th>\n",
       "      <td>BIOX</td>\n",
       "      <td>WEB</td>\n",
       "      <td>BioX</td>\n",
       "      <td>20192904</td>\n",
       "      <td>Qiagen Website</td>\n",
       "      <td>CLC Genomics Workbench</td>\n",
       "      <td>BioxBA</td>\n",
       "    </tr>\n",
       "    <tr>\n",
       "      <th>4</th>\n",
       "      <td>BIOX</td>\n",
       "      <td>WEB</td>\n",
       "      <td>BioX</td>\n",
       "      <td>20192904</td>\n",
       "      <td>Qiagen Website</td>\n",
       "      <td>Ingenuity Variant Analysis (IVA)</td>\n",
       "      <td>BioxBA</td>\n",
       "    </tr>\n",
       "    <tr>\n",
       "      <th>5</th>\n",
       "      <td>BIOX</td>\n",
       "      <td>WEB</td>\n",
       "      <td>BioX</td>\n",
       "      <td>20192904</td>\n",
       "      <td>Qiagen Website</td>\n",
       "      <td>Microbial Genomics Pro Suite</td>\n",
       "      <td>BioxBA</td>\n",
       "    </tr>\n",
       "    <tr>\n",
       "      <th>6</th>\n",
       "      <td>BIOX</td>\n",
       "      <td>WEB</td>\n",
       "      <td>BioX</td>\n",
       "      <td></td>\n",
       "      <td>HGMD</td>\n",
       "      <td>Panel2</td>\n",
       "      <td>2019.2</td>\n",
       "    </tr>\n",
       "    <tr>\n",
       "      <th>7</th>\n",
       "      <td>BIOX</td>\n",
       "      <td>WEB</td>\n",
       "      <td>BioX</td>\n",
       "      <td>20192904</td>\n",
       "      <td>Qiagen Website</td>\n",
       "      <td>Work Bench Modules</td>\n",
       "      <td>BioxBA</td>\n",
       "    </tr>\n",
       "    <tr>\n",
       "      <th>8</th>\n",
       "      <td>BIOX</td>\n",
       "      <td>WEB</td>\n",
       "      <td>BioX</td>\n",
       "      <td>20192006</td>\n",
       "      <td>qbiox</td>\n",
       "      <td>blog</td>\n",
       "      <td>1MPressRelease</td>\n",
       "    </tr>\n",
       "    <tr>\n",
       "      <th>9</th>\n",
       "      <td>BIOX</td>\n",
       "      <td>WEB</td>\n",
       "      <td>BioX</td>\n",
       "      <td>20192904</td>\n",
       "      <td>Qiagen Website</td>\n",
       "      <td>CLC Genomics Could Engine</td>\n",
       "      <td>BioxBA</td>\n",
       "    </tr>\n",
       "  </tbody>\n",
       "</table>\n",
       "</div>"
      ],
      "text/plain": [
       "  Department Campaign_code Campaign_name Start_Date                  Channel  \\\n",
       "0       BIOX           WEB          BioX   20192904           Qiagen Website   \n",
       "1       BIOX           WEB          BioX   20191605  tv.qiagenbioinformatics   \n",
       "2       BIOX           WEB          BioX   20192904           Qiagen Website   \n",
       "3       BIOX           WEB          BioX   20192904           Qiagen Website   \n",
       "4       BIOX           WEB          BioX   20192904           Qiagen Website   \n",
       "5       BIOX           WEB          BioX   20192904           Qiagen Website   \n",
       "6       BIOX           WEB          BioX                                HGMD   \n",
       "7       BIOX           WEB          BioX   20192904           Qiagen Website   \n",
       "8       BIOX           WEB          BioX   20192006                    qbiox   \n",
       "9       BIOX           WEB          BioX   20192904           Qiagen Website   \n",
       "\n",
       "                            Option1         Option2  \n",
       "0  Ingenuity Pathway Analysis (IPA)          BioxBA  \n",
       "1                           Webinar          BioxBA  \n",
       "2                           ANNOVAR          BioxBA  \n",
       "3            CLC Genomics Workbench          BioxBA  \n",
       "4  Ingenuity Variant Analysis (IVA)          BioxBA  \n",
       "5      Microbial Genomics Pro Suite          BioxBA  \n",
       "6                            Panel2          2019.2  \n",
       "7                Work Bench Modules          BioxBA  \n",
       "8                              blog  1MPressRelease  \n",
       "9         CLC Genomics Could Engine          BioxBA  "
      ]
     },
     "execution_count": 19,
     "metadata": {},
     "output_type": "execute_result"
    }
   ],
   "source": [
    "df = pd.DataFrame({'Department':department,'Campaign_code':campaign_code,'Campaign_name':campaign_name,'Start_Date':start_date,\\\n",
    "                   'Channel':channel,'Option1':option1,'Option2':option2}) \n",
    "# df.to_csv('data_extraction.csv', index=False, encoding='utf-8')\n",
    "df.head(10)"
   ]
  },
  {
   "cell_type": "code",
   "execution_count": 16,
   "metadata": {},
   "outputs": [
    {
     "name": "stdout",
     "output_type": "stream",
     "text": [
      "37 37 37 37 37 37 37\n"
     ]
    }
   ],
   "source": [
    "print(len(department),\n",
    "len(campaign_code),\n",
    "len(campaign_name),\n",
    "len(start_date),\n",
    "len(channel),\n",
    "len(option1),\n",
    "len(option2))"
   ]
  },
  {
   "cell_type": "code",
   "execution_count": null,
   "metadata": {},
   "outputs": [],
   "source": []
  },
  {
   "cell_type": "code",
   "execution_count": null,
   "metadata": {},
   "outputs": [],
   "source": []
  },
  {
   "cell_type": "code",
   "execution_count": null,
   "metadata": {},
   "outputs": [],
   "source": []
  }
 ],
 "metadata": {
  "kernelspec": {
   "display_name": "Python 3",
   "language": "python",
   "name": "python3"
  },
  "language_info": {
   "codemirror_mode": {
    "name": "ipython",
    "version": 3
   },
   "file_extension": ".py",
   "mimetype": "text/x-python",
   "name": "python",
   "nbconvert_exporter": "python",
   "pygments_lexer": "ipython3",
   "version": "3.8.5"
  }
 },
 "nbformat": 4,
 "nbformat_minor": 4
}
